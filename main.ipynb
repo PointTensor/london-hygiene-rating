{
 "cells": [
  {
   "cell_type": "code",
   "execution_count": 1,
   "metadata": {},
   "outputs": [],
   "source": [
    "import numpy as np\n",
    "import pandas as pd\n",
    "import seaborn as sn\n",
    "import matplotlib.pyplot as plt\n",
    "import xml.etree.ElementTree as ET\n",
    "import os\n",
    "import pandas_read_xml as pdx\n"
   ]
  },
  {
   "cell_type": "code",
   "execution_count": 2,
   "metadata": {},
   "outputs": [],
   "source": [
    "file_path = '/Users/rashidalawadhi/Documents/GitHub/data_analysis/hygiene_ratings/hygiene_data/'"
   ]
  },
  {
   "cell_type": "code",
   "execution_count": 3,
   "metadata": {},
   "outputs": [
    {
     "name": "stdout",
     "output_type": "stream",
     "text": [
      "34\n"
     ]
    },
    {
     "data": {
      "text/plain": [
       "['barking_dagenham.xml',\n",
       " 'barnet.xml',\n",
       " 'bexley.xml',\n",
       " 'brent.xml',\n",
       " 'bromley.xml',\n",
       " 'camden.xml',\n",
       " 'cityoflondon.xml',\n",
       " 'croydon.xml',\n",
       " 'ealing.xml',\n",
       " 'enfield.xml',\n",
       " 'greenwich.xml',\n",
       " 'hackney.xml',\n",
       " 'haringey.xml',\n",
       " 'harrow.xml',\n",
       " 'havering.xml',\n",
       " 'hillington.xml',\n",
       " 'hounslow.xml',\n",
       " 'hs_fulham.xml',\n",
       " 'islington.xml',\n",
       " 'kensington_chelsea.xml',\n",
       " 'kingston_upon_thames.xml',\n",
       " 'lambeth.xml',\n",
       " 'lewisham.xml',\n",
       " 'merton.xml',\n",
       " 'newham.xml',\n",
       " 'redbridge.xml',\n",
       " 'richmond.xml',\n",
       " 'southwark.xml',\n",
       " 'sutton.xml',\n",
       " 'tower_hamlets.xml',\n",
       " 'waltham_forest.xml',\n",
       " 'wandsworth.xml',\n",
       " 'westminster.xml']"
      ]
     },
     "execution_count": 3,
     "metadata": {},
     "output_type": "execute_result"
    }
   ],
   "source": [
    "files = os.listdir(file_path)\n",
    "print(len(files))\n",
    "files.sort()\n",
    "files.remove('.DS_Store')\n",
    "files"
   ]
  },
  {
   "cell_type": "code",
   "execution_count": 4,
   "metadata": {},
   "outputs": [],
   "source": [
    "# # Reading the first file\n",
    "# file_path_file1 = os.path.join(file_path, 'cityoflondon.xml')\n",
    "# tree = ET.parse(file_path_file1)\n",
    "# root = tree.getroot()\n",
    "# print(root.tag, root.attrib)"
   ]
  },
  {
   "cell_type": "code",
   "execution_count": 5,
   "metadata": {},
   "outputs": [],
   "source": [
    "def create_df(path ):\n",
    "    df = pdx.read_xml(path)\n",
    "    df = pdx.fully_flatten(df)\n",
    "    df = df[['FHRSEstablishment|EstablishmentCollection|EstablishmentDetail|BusinessName',  'FHRSEstablishment|EstablishmentCollection|EstablishmentDetail|BusinessType','FHRSEstablishment|EstablishmentCollection|EstablishmentDetail|RatingValue', 'FHRSEstablishment|EstablishmentCollection|EstablishmentDetail|Scores|Hygiene']]\n",
    "    df = df.rename(columns={'FHRSEstablishment|EstablishmentCollection|EstablishmentDetail|BusinessName': 'name', 'FHRSEstablishment|EstablishmentCollection|EstablishmentDetail|BusinessType': 'type', 'FHRSEstablishment|EstablishmentCollection|EstablishmentDetail|RatingValue': 'rating','FHRSEstablishment|EstablishmentCollection|EstablishmentDetail|Scores|Hygiene' : 'hygiene' })\n",
    "    df = df.drop(df[(df['rating'] == 'Exempt') | (df['rating'] == 'AwaitingInspection')].index)\n",
    "    df = df.dropna().reset_index(drop=True)\n",
    "    df = df.astype({'rating':int, 'hygiene':int})\n",
    "    \n",
    "    return df\n"
   ]
  },
  {
   "cell_type": "code",
   "execution_count": 6,
   "metadata": {},
   "outputs": [],
   "source": [
    "# df = create_df('/Users/rashidalawadhi/Documents/GitHub/data_analysis/hygiene_ratings/hygiene_data/richmond.xml')"
   ]
  },
  {
   "cell_type": "code",
   "execution_count": 7,
   "metadata": {},
   "outputs": [],
   "source": [
    "# sn.displot(data=df, x='rating')\n",
    "# plt.show()\n"
   ]
  },
  {
   "cell_type": "code",
   "execution_count": 8,
   "metadata": {},
   "outputs": [],
   "source": [
    "#calculates the percentage of businesses with a particular rating.\n",
    "def rating_percentage(num, df, column):\n",
    "    tot = 0\n",
    "    for i in df[column]:\n",
    "        if i == num:\n",
    "            tot+=1\n",
    "\n",
    "    \n",
    "    tot_norm = tot/len(df[column])*100\n",
    "    return round(tot_norm)"
   ]
  },
  {
   "cell_type": "code",
   "execution_count": 9,
   "metadata": {},
   "outputs": [],
   "source": [
    "a = []\n",
    "for i in files:\n",
    "    l_df = create_df('hygiene_ratings/hygiene_data/'+i)\n",
    "    a.append([i.replace('.xml',''),rating_percentage(5, l_df, 'rating'),rating_percentage(4, l_df, 'rating'),rating_percentage(3, l_df, 'rating'),rating_percentage(2, l_df, 'rating'),rating_percentage(1, l_df, 'rating'),rating_percentage(0, l_df, 'rating')])\n",
    "    "
   ]
  },
  {
   "cell_type": "code",
   "execution_count": 10,
   "metadata": {},
   "outputs": [],
   "source": [
    "borough_df = pd.DataFrame(a)\n",
    "borough_df = borough_df.rename(columns={0:'borough', 1:'5_rating', 2:'4_rating', 3:'3_rating', 4:'2_rating', 5:'1_rating', 6:'0_rating'})"
   ]
  },
  {
   "cell_type": "code",
   "execution_count": 45,
   "metadata": {},
   "outputs": [
    {
     "data": {
      "text/html": [
       "<div>\n",
       "<style scoped>\n",
       "    .dataframe tbody tr th:only-of-type {\n",
       "        vertical-align: middle;\n",
       "    }\n",
       "\n",
       "    .dataframe tbody tr th {\n",
       "        vertical-align: top;\n",
       "    }\n",
       "\n",
       "    .dataframe thead th {\n",
       "        text-align: right;\n",
       "    }\n",
       "</style>\n",
       "<table border=\"1\" class=\"dataframe\">\n",
       "  <thead>\n",
       "    <tr style=\"text-align: right;\">\n",
       "      <th></th>\n",
       "      <th>borough</th>\n",
       "      <th>5_rating</th>\n",
       "      <th>4_rating</th>\n",
       "      <th>3_rating</th>\n",
       "      <th>2_rating</th>\n",
       "      <th>1_rating</th>\n",
       "      <th>0_rating</th>\n",
       "    </tr>\n",
       "  </thead>\n",
       "  <tbody>\n",
       "    <tr>\n",
       "      <th>2</th>\n",
       "      <td>bexley</td>\n",
       "      <td>72</td>\n",
       "      <td>16</td>\n",
       "      <td>8</td>\n",
       "      <td>2</td>\n",
       "      <td>2</td>\n",
       "      <td>0</td>\n",
       "    </tr>\n",
       "    <tr>\n",
       "      <th>4</th>\n",
       "      <td>bromley</td>\n",
       "      <td>73</td>\n",
       "      <td>14</td>\n",
       "      <td>10</td>\n",
       "      <td>1</td>\n",
       "      <td>2</td>\n",
       "      <td>0</td>\n",
       "    </tr>\n",
       "    <tr>\n",
       "      <th>6</th>\n",
       "      <td>cityoflondon</td>\n",
       "      <td>87</td>\n",
       "      <td>8</td>\n",
       "      <td>2</td>\n",
       "      <td>2</td>\n",
       "      <td>1</td>\n",
       "      <td>0</td>\n",
       "    </tr>\n",
       "    <tr>\n",
       "      <th>10</th>\n",
       "      <td>greenwich</td>\n",
       "      <td>77</td>\n",
       "      <td>17</td>\n",
       "      <td>4</td>\n",
       "      <td>1</td>\n",
       "      <td>1</td>\n",
       "      <td>0</td>\n",
       "    </tr>\n",
       "    <tr>\n",
       "      <th>12</th>\n",
       "      <td>haringey</td>\n",
       "      <td>76</td>\n",
       "      <td>14</td>\n",
       "      <td>6</td>\n",
       "      <td>3</td>\n",
       "      <td>1</td>\n",
       "      <td>1</td>\n",
       "    </tr>\n",
       "    <tr>\n",
       "      <th>15</th>\n",
       "      <td>hillington</td>\n",
       "      <td>70</td>\n",
       "      <td>17</td>\n",
       "      <td>8</td>\n",
       "      <td>2</td>\n",
       "      <td>3</td>\n",
       "      <td>1</td>\n",
       "    </tr>\n",
       "    <tr>\n",
       "      <th>16</th>\n",
       "      <td>hounslow</td>\n",
       "      <td>71</td>\n",
       "      <td>20</td>\n",
       "      <td>6</td>\n",
       "      <td>2</td>\n",
       "      <td>1</td>\n",
       "      <td>0</td>\n",
       "    </tr>\n",
       "    <tr>\n",
       "      <th>17</th>\n",
       "      <td>hs_fulham</td>\n",
       "      <td>76</td>\n",
       "      <td>15</td>\n",
       "      <td>7</td>\n",
       "      <td>1</td>\n",
       "      <td>1</td>\n",
       "      <td>0</td>\n",
       "    </tr>\n",
       "    <tr>\n",
       "      <th>19</th>\n",
       "      <td>kensington_chelsea</td>\n",
       "      <td>86</td>\n",
       "      <td>8</td>\n",
       "      <td>4</td>\n",
       "      <td>1</td>\n",
       "      <td>0</td>\n",
       "      <td>0</td>\n",
       "    </tr>\n",
       "    <tr>\n",
       "      <th>23</th>\n",
       "      <td>merton</td>\n",
       "      <td>76</td>\n",
       "      <td>14</td>\n",
       "      <td>8</td>\n",
       "      <td>1</td>\n",
       "      <td>1</td>\n",
       "      <td>0</td>\n",
       "    </tr>\n",
       "    <tr>\n",
       "      <th>25</th>\n",
       "      <td>redbridge</td>\n",
       "      <td>70</td>\n",
       "      <td>15</td>\n",
       "      <td>10</td>\n",
       "      <td>2</td>\n",
       "      <td>3</td>\n",
       "      <td>0</td>\n",
       "    </tr>\n",
       "    <tr>\n",
       "      <th>26</th>\n",
       "      <td>richmond</td>\n",
       "      <td>70</td>\n",
       "      <td>20</td>\n",
       "      <td>6</td>\n",
       "      <td>1</td>\n",
       "      <td>2</td>\n",
       "      <td>0</td>\n",
       "    </tr>\n",
       "    <tr>\n",
       "      <th>29</th>\n",
       "      <td>tower_hamlets</td>\n",
       "      <td>70</td>\n",
       "      <td>19</td>\n",
       "      <td>7</td>\n",
       "      <td>2</td>\n",
       "      <td>3</td>\n",
       "      <td>0</td>\n",
       "    </tr>\n",
       "    <tr>\n",
       "      <th>31</th>\n",
       "      <td>wandsworth</td>\n",
       "      <td>72</td>\n",
       "      <td>17</td>\n",
       "      <td>9</td>\n",
       "      <td>1</td>\n",
       "      <td>1</td>\n",
       "      <td>0</td>\n",
       "    </tr>\n",
       "  </tbody>\n",
       "</table>\n",
       "</div>"
      ],
      "text/plain": [
       "               borough  5_rating  4_rating  3_rating  2_rating  1_rating   \n",
       "2               bexley        72        16         8         2         2  \\\n",
       "4              bromley        73        14        10         1         2   \n",
       "6         cityoflondon        87         8         2         2         1   \n",
       "10           greenwich        77        17         4         1         1   \n",
       "12            haringey        76        14         6         3         1   \n",
       "15          hillington        70        17         8         2         3   \n",
       "16            hounslow        71        20         6         2         1   \n",
       "17           hs_fulham        76        15         7         1         1   \n",
       "19  kensington_chelsea        86         8         4         1         0   \n",
       "23              merton        76        14         8         1         1   \n",
       "25           redbridge        70        15        10         2         3   \n",
       "26            richmond        70        20         6         1         2   \n",
       "29       tower_hamlets        70        19         7         2         3   \n",
       "31          wandsworth        72        17         9         1         1   \n",
       "\n",
       "    0_rating  \n",
       "2          0  \n",
       "4          0  \n",
       "6          0  \n",
       "10         0  \n",
       "12         1  \n",
       "15         1  \n",
       "16         0  \n",
       "17         0  \n",
       "19         0  \n",
       "23         0  \n",
       "25         0  \n",
       "26         0  \n",
       "29         0  \n",
       "31         0  "
      ]
     },
     "execution_count": 45,
     "metadata": {},
     "output_type": "execute_result"
    }
   ],
   "source": [
    "borough_df.loc[borough_df['5_rating']>=70]"
   ]
  },
  {
   "cell_type": "code",
   "execution_count": 43,
   "metadata": {},
   "outputs": [
    {
     "data": {
      "text/plain": [
       "<Figure size 1000x1000 with 0 Axes>"
      ]
     },
     "metadata": {},
     "output_type": "display_data"
    },
    {
     "data": {
      "image/png": "[encoded data removed]",
      "text/plain": [
       "<Figure size 640x480 with 1 Axes>"
      ]
     },
     "metadata": {},
     "output_type": "display_data"
    }
   ],
   "source": [
    "plt.figure(figsize=(10,10))\n",
    "\n",
    "borough_df.plot(kind='bar', stacked=True, color=['green', 'limegreen', 'yellow','orange', 'red', 'red'])\n",
    " \n",
    "# Add Title and Labels\n",
    "\n",
    "plt.title('London borough hygiene ratings')\n",
    "plt.xlabel('Boroughs')\n",
    "plt.ylabel('Percentage Ranges')\n",
    "plt.savefig('hygiene_london')\n",
    "plt.show()"
   ]
  },
  {
   "cell_type": "code",
   "execution_count": 13,
   "metadata": {},
   "outputs": [
    {
     "data": {
      "text/plain": [
       "'islington'"
      ]
     },
     "execution_count": 13,
     "metadata": {},
     "output_type": "execute_result"
    }
   ],
   "source": [
    "borough_df['borough'][18]"
   ]
  },
  {
   "cell_type": "code",
   "execution_count": 14,
   "metadata": {},
   "outputs": [],
   "source": [
    "geo_df = pdx.read_xml('hygiene_ratings/hygiene_data/barnet.xml')"
   ]
  },
  {
   "cell_type": "code",
   "execution_count": 15,
   "metadata": {},
   "outputs": [
    {
     "data": {
      "text/plain": [
       "'Exempt'"
      ]
     },
     "execution_count": 15,
     "metadata": {},
     "output_type": "execute_result"
    }
   ],
   "source": [
    "pdx.fully_flatten(geo_df)['FHRSEstablishment|EstablishmentCollection|EstablishmentDetail|RatingValue'][2453]"
   ]
  },
  {
   "cell_type": "code",
   "execution_count": 19,
   "metadata": {},
   "outputs": [],
   "source": [
    "def create_geo_df(path ):\n",
    "    df = pdx.read_xml(path)\n",
    "    df = pdx.fully_flatten(df)\n",
    "    df = df[['FHRSEstablishment|EstablishmentCollection|EstablishmentDetail|BusinessName',  'FHRSEstablishment|EstablishmentCollection|EstablishmentDetail|BusinessType','FHRSEstablishment|EstablishmentCollection|EstablishmentDetail|RatingValue','FHRSEstablishment|EstablishmentCollection|EstablishmentDetail|Geocode|Latitude', 'FHRSEstablishment|EstablishmentCollection|EstablishmentDetail|Geocode|Longitude' ]]\n",
    "    df = df.rename(columns={'FHRSEstablishment|EstablishmentCollection|EstablishmentDetail|BusinessName': 'name', 'FHRSEstablishment|EstablishmentCollection|EstablishmentDetail|BusinessType': 'type', 'FHRSEstablishment|EstablishmentCollection|EstablishmentDetail|RatingValue': 'rating', 'FHRSEstablishment|EstablishmentCollection|EstablishmentDetail|Geocode|Latitude' : 'latitude', 'FHRSEstablishment|EstablishmentCollection|EstablishmentDetail|Geocode|Longitude':'longitude' })\n",
    "    df = df.drop(df[(df['rating'] == 'Exempt') | (df['rating'] == 'AwaitingInspection') | (df['rating'] == 'AwaitingPublication')].index)\n",
    "    df = df.dropna().reset_index(drop=True)\n",
    "    df = df.astype({'rating':int, 'latitude':float, 'longitude':float})\n",
    "    \n",
    "    return df"
   ]
  },
  {
   "cell_type": "code",
   "execution_count": 20,
   "metadata": {},
   "outputs": [],
   "source": [
    "# for i in files:\n",
    "#     df_geo = create_geo_df('hygiene_ratings/hygiene_data/'+i)\n",
    "#     j = i.replace('.xml','.xlsx')\n",
    "#     path = '/Users/rashidalawadhi/Documents/GitHub/data_analysis/excel_sheets/'+j\n",
    "#     df_geo.to_excel(path)\n",
    "\n"
   ]
  },
  {
   "cell_type": "code",
   "execution_count": 23,
   "metadata": {},
   "outputs": [],
   "source": [
    "#Creates a pandas dataframe which includes geolocation for the whole of london\n",
    "\n",
    "tot_df_geo = create_geo_df('hygiene_ratings/hygiene_data/'+'barking_dagenham.xml')\n",
    "for i in files:\n",
    "    if i != 'barking_dagenham.xml':\n",
    "        df_geo = create_geo_df('hygiene_ratings/hygiene_data/'+i)\n",
    "        tot_df_geo = pd.concat([tot_df_geo, df_geo], ignore_index=True)\n",
    "\n"
   ]
  },
  {
   "cell_type": "code",
   "execution_count": 25,
   "metadata": {},
   "outputs": [],
   "source": [
    "tot_df_geo.to_excel('/Users/rashidalawadhi/Documents/GitHub/data_analysis/excel_sheets/total_data.xlsx')"
   ]
  },
  {
   "cell_type": "code",
   "execution_count": 26,
   "metadata": {},
   "outputs": [],
   "source": [
    "tot_df_geo.to_csv('/Users/rashidalawadhi/Documents/GitHub/data_analysis/excel_sheets/total_data.csv')"
   ]
  },
  {
   "cell_type": "code",
   "execution_count": null,
   "metadata": {},
   "outputs": [],
   "source": [
    "#29/05/2023"
   ]
  }
 ],
 "metadata": {
  "kernelspec": {
   "display_name": "Python 3",
   "language": "python",
   "name": "python3"
  },
  "language_info": {
   "codemirror_mode": {
    "name": "ipython",
    "version": 3
   },
   "file_extension": ".py",
   "mimetype": "text/x-python",
   "name": "python",
   "nbconvert_exporter": "python",
   "pygments_lexer": "ipython3",
   "version": "3.9.16"
  },
  "orig_nbformat": 4
 },
 "nbformat": 4,
 "nbformat_minor": 2
}
