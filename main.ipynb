{
 "cells": [
  {
   "cell_type": "code",
   "execution_count": 1,
   "metadata": {},
   "outputs": [],
   "source": [
    "import numpy as np\n",
    "import pandas as pd\n",
    "import seaborn as sn\n",
    "import matplotlib.pyplot as plt\n",
    "import xml.etree.ElementTree as ET\n",
    "import os\n",
    "import pandas_read_xml as pdx\n"
   ]
  },
  {
   "cell_type": "code",
   "execution_count": 2,
   "metadata": {},
   "outputs": [],
   "source": [
    "file_path = '/Users/rashidalawadhi/Documents/GitHub/data_analysis/hygiene_ratings/hygiene_data/'"
   ]
  },
  {
   "cell_type": "code",
   "execution_count": 3,
   "metadata": {},
   "outputs": [
    {
     "ename": "FileNotFoundError",
     "evalue": "[Errno 2] No such file or directory: '/Users/rashidalawadhi/Documents/GitHub/data_analysis/hygiene_ratings/hygiene_data/'",
     "output_type": "error",
     "traceback": [
      "\u001b[0;31m---------------------------------------------------------------------------\u001b[0m",
      "\u001b[0;31mFileNotFoundError\u001b[0m                         Traceback (most recent call last)",
      "Cell \u001b[0;32mIn[3], line 1\u001b[0m\n\u001b[0;32m----> 1\u001b[0m files \u001b[39m=\u001b[39m os\u001b[39m.\u001b[39;49mlistdir(file_path)\n\u001b[1;32m      2\u001b[0m \u001b[39mprint\u001b[39m(\u001b[39mlen\u001b[39m(files))\n\u001b[1;32m      3\u001b[0m files\u001b[39m.\u001b[39msort()\n",
      "\u001b[0;31mFileNotFoundError\u001b[0m: [Errno 2] No such file or directory: '/Users/rashidalawadhi/Documents/GitHub/data_analysis/hygiene_ratings/hygiene_data/'"
     ]
    }
   ],
   "source": [
    "files = os.listdir(file_path)\n",
    "print(len(files))\n",
    "files.sort()\n",
    "files.remove('.DS_Store')\n",
    "files"
   ]
  },
  {
   "cell_type": "code",
   "execution_count": 4,
   "metadata": {},
   "outputs": [],
   "source": [
    "# # Reading the first file\n",
    "# file_path_file1 = os.path.join(file_path, 'cityoflondon.xml')\n",
    "# tree = ET.parse(file_path_file1)\n",
    "# root = tree.getroot()\n",
    "# print(root.tag, root.attrib)"
   ]
  },
  {
   "cell_type": "code",
   "execution_count": 5,
   "metadata": {},
   "outputs": [],
   "source": [
    "def create_df(path ):\n",
    "    df = pdx.read_xml(path)\n",
    "    df = pdx.fully_flatten(df)\n",
    "    df = df[['FHRSEstablishment|EstablishmentCollection|EstablishmentDetail|BusinessName',  'FHRSEstablishment|EstablishmentCollection|EstablishmentDetail|BusinessType','FHRSEstablishment|EstablishmentCollection|EstablishmentDetail|RatingValue', 'FHRSEstablishment|EstablishmentCollection|EstablishmentDetail|Scores|Hygiene']]\n",
    "    df = df.rename(columns={'FHRSEstablishment|EstablishmentCollection|EstablishmentDetail|BusinessName': 'name', 'FHRSEstablishment|EstablishmentCollection|EstablishmentDetail|BusinessType': 'type', 'FHRSEstablishment|EstablishmentCollection|EstablishmentDetail|RatingValue': 'rating','FHRSEstablishment|EstablishmentCollection|EstablishmentDetail|Scores|Hygiene' : 'hygiene' })\n",
    "    df = df.drop(df[(df['rating'] == 'Exempt') | (df['rating'] == 'AwaitingInspection')].index)\n",
    "    df = df.dropna().reset_index(drop=True)\n",
    "    df = df.astype({'rating':int, 'hygiene':int})\n",
    "    \n",
    "    return df\n"
   ]
  },
  {
   "cell_type": "code",
   "execution_count": 6,
   "metadata": {},
   "outputs": [],
   "source": [
    "# df = create_df('/Users/rashidalawadhi/Documents/GitHub/data_analysis/hygiene_ratings/hygiene_data/richmond.xml')"
   ]
  },
  {
   "cell_type": "code",
   "execution_count": 7,
   "metadata": {},
   "outputs": [],
   "source": [
    "# sn.displot(data=df, x='rating')\n",
    "# plt.show()\n"
   ]
  },
  {
   "cell_type": "code",
   "execution_count": 8,
   "metadata": {},
   "outputs": [],
   "source": [
    "#calculates the percentage of businesses with a particular rating.\n",
    "def rating_percentage(num, df, column):\n",
    "    tot = 0\n",
    "    for i in df[column]:\n",
    "        if i == num:\n",
    "            tot+=1\n",
    "\n",
    "    \n",
    "    tot_norm = tot/len(df[column])*100\n",
    "    return round(tot_norm)"
   ]
  },
  {
   "cell_type": "code",
   "execution_count": 9,
   "metadata": {},
   "outputs": [],
   "source": [
    "a = []\n",
    "for i in files:\n",
    "    l_df = create_df('hygiene_ratings/hygiene_data/'+i)\n",
    "    a.append([i.replace('.xml',''),rating_percentage(5, l_df, 'rating'),rating_percentage(4, l_df, 'rating'),rating_percentage(3, l_df, 'rating'),rating_percentage(2, l_df, 'rating'),rating_percentage(1, l_df, 'rating'),rating_percentage(0, l_df, 'rating')])\n",
    "    "
   ]
  },
  {
   "cell_type": "code",
   "execution_count": 10,
   "metadata": {},
   "outputs": [],
   "source": [
    "borough_df = pd.DataFrame(a)\n",
    "borough_df = borough_df.rename(columns={0:'borough', 1:'5_rating', 2:'4_rating', 3:'3_rating', 4:'2_rating', 5:'1_rating', 6:'0_rating'})"
   ]
  },
  {
   "cell_type": "code",
   "execution_count": 45,
   "metadata": {},
   "outputs": [
    {
     "data": {
      "text/html": [
       "<div>\n",
       "<style scoped>\n",
       "    .dataframe tbody tr th:only-of-type {\n",
       "        vertical-align: middle;\n",
       "    }\n",
       "\n",
       "    .dataframe tbody tr th {\n",
       "        vertical-align: top;\n",
       "    }\n",
       "\n",
       "    .dataframe thead th {\n",
       "        text-align: right;\n",
       "    }\n",
       "</style>\n",
       "<table border=\"1\" class=\"dataframe\">\n",
       "  <thead>\n",
       "    <tr style=\"text-align: right;\">\n",
       "      <th></th>\n",
       "      <th>borough</th>\n",
       "      <th>5_rating</th>\n",
       "      <th>4_rating</th>\n",
       "      <th>3_rating</th>\n",
       "      <th>2_rating</th>\n",
       "      <th>1_rating</th>\n",
       "      <th>0_rating</th>\n",
       "    </tr>\n",
       "  </thead>\n",
       "  <tbody>\n",
       "    <tr>\n",
       "      <th>2</th>\n",
       "      <td>bexley</td>\n",
       "      <td>72</td>\n",
       "      <td>16</td>\n",
       "      <td>8</td>\n",
       "      <td>2</td>\n",
       "      <td>2</td>\n",
       "      <td>0</td>\n",
       "    </tr>\n",
       "    <tr>\n",
       "      <th>4</th>\n",
       "      <td>bromley</td>\n",
       "      <td>73</td>\n",
       "      <td>14</td>\n",
       "      <td>10</td>\n",
       "      <td>1</td>\n",
       "      <td>2</td>\n",
       "      <td>0</td>\n",
       "    </tr>\n",
       "    <tr>\n",
       "      <th>6</th>\n",
       "      <td>cityoflondon</td>\n",
       "      <td>87</td>\n",
       "      <td>8</td>\n",
       "      <td>2</td>\n",
       "      <td>2</td>\n",
       "      <td>1</td>\n",
       "      <td>0</td>\n",
       "    </tr>\n",
       "    <tr>\n",
       "      <th>10</th>\n",
       "      <td>greenwich</td>\n",
       "      <td>77</td>\n",
       "      <td>17</td>\n",
       "      <td>4</td>\n",
       "      <td>1</td>\n",
       "      <td>1</td>\n",
       "      <td>0</td>\n",
       "    </tr>\n",
       "    <tr>\n",
       "      <th>12</th>\n",
       "      <td>haringey</td>\n",
       "      <td>76</td>\n",
       "      <td>14</td>\n",
       "      <td>6</td>\n",
       "      <td>3</td>\n",
       "      <td>1</td>\n",
       "      <td>1</td>\n",
       "    </tr>\n",
       "    <tr>\n",
       "      <th>15</th>\n",
       "      <td>hillington</td>\n",
       "      <td>70</td>\n",
       "      <td>17</td>\n",
       "      <td>8</td>\n",
       "      <td>2</td>\n",
       "      <td>3</td>\n",
       "      <td>1</td>\n",
       "    </tr>\n",
       "    <tr>\n",
       "      <th>16</th>\n",
       "      <td>hounslow</td>\n",
       "      <td>71</td>\n",
       "      <td>20</td>\n",
       "      <td>6</td>\n",
       "      <td>2</td>\n",
       "      <td>1</td>\n",
       "      <td>0</td>\n",
       "    </tr>\n",
       "    <tr>\n",
       "      <th>17</th>\n",
       "      <td>hs_fulham</td>\n",
       "      <td>76</td>\n",
       "      <td>15</td>\n",
       "      <td>7</td>\n",
       "      <td>1</td>\n",
       "      <td>1</td>\n",
       "      <td>0</td>\n",
       "    </tr>\n",
       "    <tr>\n",
       "      <th>19</th>\n",
       "      <td>kensington_chelsea</td>\n",
       "      <td>86</td>\n",
       "      <td>8</td>\n",
       "      <td>4</td>\n",
       "      <td>1</td>\n",
       "      <td>0</td>\n",
       "      <td>0</td>\n",
       "    </tr>\n",
       "    <tr>\n",
       "      <th>23</th>\n",
       "      <td>merton</td>\n",
       "      <td>76</td>\n",
       "      <td>14</td>\n",
       "      <td>8</td>\n",
       "      <td>1</td>\n",
       "      <td>1</td>\n",
       "      <td>0</td>\n",
       "    </tr>\n",
       "    <tr>\n",
       "      <th>25</th>\n",
       "      <td>redbridge</td>\n",
       "      <td>70</td>\n",
       "      <td>15</td>\n",
       "      <td>10</td>\n",
       "      <td>2</td>\n",
       "      <td>3</td>\n",
       "      <td>0</td>\n",
       "    </tr>\n",
       "    <tr>\n",
       "      <th>26</th>\n",
       "      <td>richmond</td>\n",
       "      <td>70</td>\n",
       "      <td>20</td>\n",
       "      <td>6</td>\n",
       "      <td>1</td>\n",
       "      <td>2</td>\n",
       "      <td>0</td>\n",
       "    </tr>\n",
       "    <tr>\n",
       "      <th>29</th>\n",
       "      <td>tower_hamlets</td>\n",
       "      <td>70</td>\n",
       "      <td>19</td>\n",
       "      <td>7</td>\n",
       "      <td>2</td>\n",
       "      <td>3</td>\n",
       "      <td>0</td>\n",
       "    </tr>\n",
       "    <tr>\n",
       "      <th>31</th>\n",
       "      <td>wandsworth</td>\n",
       "      <td>72</td>\n",
       "      <td>17</td>\n",
       "      <td>9</td>\n",
       "      <td>1</td>\n",
       "      <td>1</td>\n",
       "      <td>0</td>\n",
       "    </tr>\n",
       "  </tbody>\n",
       "</table>\n",
       "</div>"
      ],
      "text/plain": [
       "               borough  5_rating  4_rating  3_rating  2_rating  1_rating   \n",
       "2               bexley        72        16         8         2         2  \\\n",
       "4              bromley        73        14        10         1         2   \n",
       "6         cityoflondon        87         8         2         2         1   \n",
       "10           greenwich        77        17         4         1         1   \n",
       "12            haringey        76        14         6         3         1   \n",
       "15          hillington        70        17         8         2         3   \n",
       "16            hounslow        71        20         6         2         1   \n",
       "17           hs_fulham        76        15         7         1         1   \n",
       "19  kensington_chelsea        86         8         4         1         0   \n",
       "23              merton        76        14         8         1         1   \n",
       "25           redbridge        70        15        10         2         3   \n",
       "26            richmond        70        20         6         1         2   \n",
       "29       tower_hamlets        70        19         7         2         3   \n",
       "31          wandsworth        72        17         9         1         1   \n",
       "\n",
       "    0_rating  \n",
       "2          0  \n",
       "4          0  \n",
       "6          0  \n",
       "10         0  \n",
       "12         1  \n",
       "15         1  \n",
       "16         0  \n",
       "17         0  \n",
       "19         0  \n",
       "23         0  \n",
       "25         0  \n",
       "26         0  \n",
       "29         0  \n",
       "31         0  "
      ]
     },
     "execution_count": 45,
     "metadata": {},
     "output_type": "execute_result"
    }
   ],
   "source": [
    "borough_df.loc[borough_df['5_rating']>=70]"
   ]
  },
  {
   "cell_type": "code",
   "execution_count": 43,
   "metadata": {},
   "outputs": [
    {
     "data": {
      "text/plain": [
       "<Figure size 1000x1000 with 0 Axes>"
      ]
     },
     "metadata": {},
     "output_type": "display_data"
    },
    {
     "data": {
      "image/png": "[encoded data removed]",
      "text/plain": [
       "<Figure size 640x480 with 1 Axes>"
      ]
     },
     "metadata": {},
     "output_type": "display_data"
    }
   ],
   "source": [
    "plt.figure(figsize=(10,10))\n",
    "\n",
    "borough_df.plot(kind='bar', stacked=True, color=['green', 'limegreen', 'yellow','orange', 'red', 'red'])\n",
    " \n",
    "# Add Title and Labels\n",
    "\n",
    "plt.title('London borough hygiene ratings')\n",
    "plt.xlabel('Boroughs')\n",
    "plt.ylabel('Percentage Ranges')\n",
    "plt.savefig('hygiene_london')\n",
    "plt.show()"
   ]
  },
  {
   "cell_type": "code",
   "execution_count": 13,
   "metadata": {},
   "outputs": [
    {
     "data": {
      "text/plain": [
       "'islington'"
      ]
     },
     "execution_count": 13,
     "metadata": {},
     "output_type": "execute_result"
    }
   ],
   "source": [
    "borough_df['borough'][18]"
   ]
  },
  {
   "cell_type": "code",
   "execution_count": 14,
   "metadata": {},
   "outputs": [],
   "source": [
    "geo_df = pdx.read_xml('hygiene_ratings/hygiene_data/barnet.xml')"
   ]
  },
  {
   "cell_type": "code",
   "execution_count": 15,
   "metadata": {},
   "outputs": [
    {
     "data": {
      "text/plain": [
       "'Exempt'"
      ]
     },
     "execution_count": 15,
     "metadata": {},
     "output_type": "execute_result"
    }
   ],
   "source": [
    "pdx.fully_flatten(geo_df)['FHRSEstablishment|EstablishmentCollection|EstablishmentDetail|RatingValue'][2453]"
   ]
  },
  {
   "cell_type": "code",
   "execution_count": 19,
   "metadata": {},
   "outputs": [],
   "source": [
    "def create_geo_df(path ):\n",
    "    df = pdx.read_xml(path)\n",
    "    df = pdx.fully_flatten(df)\n",
    "    df = df[['FHRSEstablishment|EstablishmentCollection|EstablishmentDetail|BusinessName',  'FHRSEstablishment|EstablishmentCollection|EstablishmentDetail|BusinessType','FHRSEstablishment|EstablishmentCollection|EstablishmentDetail|RatingValue','FHRSEstablishment|EstablishmentCollection|EstablishmentDetail|Geocode|Latitude', 'FHRSEstablishment|EstablishmentCollection|EstablishmentDetail|Geocode|Longitude' ]]\n",
    "    df = df.rename(columns={'FHRSEstablishment|EstablishmentCollection|EstablishmentDetail|BusinessName': 'name', 'FHRSEstablishment|EstablishmentCollection|EstablishmentDetail|BusinessType': 'type', 'FHRSEstablishment|EstablishmentCollection|EstablishmentDetail|RatingValue': 'rating', 'FHRSEstablishment|EstablishmentCollection|EstablishmentDetail|Geocode|Latitude' : 'latitude', 'FHRSEstablishment|EstablishmentCollection|EstablishmentDetail|Geocode|Longitude':'longitude' })\n",
    "    df = df.drop(df[(df['rating'] == 'Exempt') | (df['rating'] == 'AwaitingInspection') | (df['rating'] == 'AwaitingPublication')].index)\n",
    "    df = df.dropna().reset_index(drop=True)\n",
    "    df = df.astype({'rating':int, 'latitude':float, 'longitude':float})\n",
    "    \n",
    "    return df"
   ]
  },
  {
   "cell_type": "code",
   "execution_count": 20,
   "metadata": {},
   "outputs": [],
   "source": [
    "# for i in files:\n",
    "#     df_geo = create_geo_df('hygiene_ratings/hygiene_data/'+i)\n",
    "#     j = i.replace('.xml','.xlsx')\n",
    "#     path = '/Users/rashidalawadhi/Documents/GitHub/data_analysis/excel_sheets/'+j\n",
    "#     df_geo.to_excel(path)\n",
    "\n"
   ]
  },
  {
   "cell_type": "code",
   "execution_count": 23,
   "metadata": {},
   "outputs": [],
   "source": [
    "#Creates a pandas dataframe which includes geolocation for the whole of london\n",
    "\n",
    "# tot_df_geo = create_geo_df('hygiene_ratings/hygiene_data/'+'barking_dagenham.xml')\n",
    "# for i in files:\n",
    "#     if i != 'barking_dagenham.xml':\n",
    "#         df_geo = create_geo_df('hygiene_ratings/hygiene_data/'+i)\n",
    "#         tot_df_geo = pd.concat([tot_df_geo, df_geo], ignore_index=True)\n",
    "\n"
   ]
  },
  {
   "cell_type": "code",
   "execution_count": 25,
   "metadata": {},
   "outputs": [],
   "source": [
    "# tot_df_geo.to_excel('/Users/rashidalawadhi/Documents/GitHub/data_analysis/excel_sheets/total_data.xlsx')"
   ]
  },
  {
   "cell_type": "code",
   "execution_count": 26,
   "metadata": {},
   "outputs": [],
   "source": [
    "# tot_df_geo.to_csv('/Users/rashidalawadhi/Documents/GitHub/data_analysis/excel_sheets/total_data.csv')"
   ]
  },
  {
   "cell_type": "code",
   "execution_count": null,
   "metadata": {},
   "outputs": [],
   "source": [
    "#29/05/2023"
   ]
  },
  {
   "cell_type": "code",
   "execution_count": 13,
   "metadata": {},
   "outputs": [],
   "source": [
    "df = pd.read_csv('/Users/rashidalawadhi/Documents/GitHub/data_analysis/london-hygiene-rating/excel_sheets/total_data.csv', index_col=0)"
   ]
  },
  {
   "cell_type": "code",
   "execution_count": 14,
   "metadata": {},
   "outputs": [
    {
     "data": {
      "text/html": [
       "<div>\n",
       "<style scoped>\n",
       "    .dataframe tbody tr th:only-of-type {\n",
       "        vertical-align: middle;\n",
       "    }\n",
       "\n",
       "    .dataframe tbody tr th {\n",
       "        vertical-align: top;\n",
       "    }\n",
       "\n",
       "    .dataframe thead th {\n",
       "        text-align: right;\n",
       "    }\n",
       "</style>\n",
       "<table border=\"1\" class=\"dataframe\">\n",
       "  <thead>\n",
       "    <tr style=\"text-align: right;\">\n",
       "      <th></th>\n",
       "      <th>name</th>\n",
       "      <th>type</th>\n",
       "      <th>rating</th>\n",
       "      <th>latitude</th>\n",
       "      <th>longitude</th>\n",
       "    </tr>\n",
       "  </thead>\n",
       "  <tbody>\n",
       "    <tr>\n",
       "      <th>0</th>\n",
       "      <td>1st Steps Day Nursery LTD</td>\n",
       "      <td>Hospitals/Childcare/Caring Premises</td>\n",
       "      <td>4</td>\n",
       "      <td>51.551758</td>\n",
       "      <td>0.161440</td>\n",
       "    </tr>\n",
       "    <tr>\n",
       "      <th>1</th>\n",
       "      <td>212 Lounge</td>\n",
       "      <td>Other catering premises</td>\n",
       "      <td>4</td>\n",
       "      <td>51.572008</td>\n",
       "      <td>0.141134</td>\n",
       "    </tr>\n",
       "    <tr>\n",
       "      <th>2</th>\n",
       "      <td>3 Sweet Mrs</td>\n",
       "      <td>Retailers - other</td>\n",
       "      <td>4</td>\n",
       "      <td>51.539736</td>\n",
       "      <td>0.160559</td>\n",
       "    </tr>\n",
       "    <tr>\n",
       "      <th>3</th>\n",
       "      <td>3D Food &amp; Wine LTD T/A Westbury News</td>\n",
       "      <td>Retailers - other</td>\n",
       "      <td>4</td>\n",
       "      <td>51.534083</td>\n",
       "      <td>0.085834</td>\n",
       "    </tr>\n",
       "    <tr>\n",
       "      <th>4</th>\n",
       "      <td>5 Elm's Cafe</td>\n",
       "      <td>Restaurant/Cafe/Canteen</td>\n",
       "      <td>3</td>\n",
       "      <td>51.554493</td>\n",
       "      <td>0.142421</td>\n",
       "    </tr>\n",
       "    <tr>\n",
       "      <th>...</th>\n",
       "      <td>...</td>\n",
       "      <td>...</td>\n",
       "      <td>...</td>\n",
       "      <td>...</td>\n",
       "      <td>...</td>\n",
       "    </tr>\n",
       "    <tr>\n",
       "      <th>57240</th>\n",
       "      <td>Umu Restaurant</td>\n",
       "      <td>Restaurant/Cafe/Canteen</td>\n",
       "      <td>4</td>\n",
       "      <td>51.511424</td>\n",
       "      <td>-0.144396</td>\n",
       "    </tr>\n",
       "    <tr>\n",
       "      <th>57241</th>\n",
       "      <td>Vespa Italian Restaurant</td>\n",
       "      <td>Restaurant/Cafe/Canteen</td>\n",
       "      <td>4</td>\n",
       "      <td>51.510042</td>\n",
       "      <td>-0.128772</td>\n",
       "    </tr>\n",
       "    <tr>\n",
       "      <th>57242</th>\n",
       "      <td>Visconti Of Westminster Restaurant</td>\n",
       "      <td>Restaurant/Cafe/Canteen</td>\n",
       "      <td>5</td>\n",
       "      <td>51.493594</td>\n",
       "      <td>-0.129274</td>\n",
       "    </tr>\n",
       "    <tr>\n",
       "      <th>57243</th>\n",
       "      <td>Whole Foods Market</td>\n",
       "      <td>Retailers - other</td>\n",
       "      <td>5</td>\n",
       "      <td>51.510425</td>\n",
       "      <td>-0.135598</td>\n",
       "    </tr>\n",
       "    <tr>\n",
       "      <th>57244</th>\n",
       "      <td>Yeotown Sussex Gardens</td>\n",
       "      <td>Hotel/bed &amp; breakfast/guest house</td>\n",
       "      <td>3</td>\n",
       "      <td>51.516765</td>\n",
       "      <td>-0.170742</td>\n",
       "    </tr>\n",
       "  </tbody>\n",
       "</table>\n",
       "<p>57245 rows × 5 columns</p>\n",
       "</div>"
      ],
      "text/plain": [
       "                                       name   \n",
       "0                 1st Steps Day Nursery LTD  \\\n",
       "1                                212 Lounge   \n",
       "2                               3 Sweet Mrs   \n",
       "3      3D Food & Wine LTD T/A Westbury News   \n",
       "4                              5 Elm's Cafe   \n",
       "...                                     ...   \n",
       "57240                        Umu Restaurant   \n",
       "57241              Vespa Italian Restaurant   \n",
       "57242    Visconti Of Westminster Restaurant   \n",
       "57243                    Whole Foods Market   \n",
       "57244                Yeotown Sussex Gardens   \n",
       "\n",
       "                                      type  rating   latitude  longitude  \n",
       "0      Hospitals/Childcare/Caring Premises       4  51.551758   0.161440  \n",
       "1                  Other catering premises       4  51.572008   0.141134  \n",
       "2                        Retailers - other       4  51.539736   0.160559  \n",
       "3                        Retailers - other       4  51.534083   0.085834  \n",
       "4                  Restaurant/Cafe/Canteen       3  51.554493   0.142421  \n",
       "...                                    ...     ...        ...        ...  \n",
       "57240              Restaurant/Cafe/Canteen       4  51.511424  -0.144396  \n",
       "57241              Restaurant/Cafe/Canteen       4  51.510042  -0.128772  \n",
       "57242              Restaurant/Cafe/Canteen       5  51.493594  -0.129274  \n",
       "57243                    Retailers - other       5  51.510425  -0.135598  \n",
       "57244    Hotel/bed & breakfast/guest house       3  51.516765  -0.170742  \n",
       "\n",
       "[57245 rows x 5 columns]"
      ]
     },
     "execution_count": 14,
     "metadata": {},
     "output_type": "execute_result"
    }
   ],
   "source": [
    "df"
   ]
  },
  {
   "cell_type": "code",
   "execution_count": 27,
   "metadata": {},
   "outputs": [
    {
     "data": {
      "text/plain": [
       "<seaborn.axisgrid.FacetGrid at 0x16c18a520>"
      ]
     },
     "execution_count": 27,
     "metadata": {},
     "output_type": "execute_result"
    },
    {
     "data": {
      "image/png": "[encoded data removed]",
      "text/plain": [
       "<Figure size 500x500 with 1 Axes>"
      ]
     },
     "metadata": {},
     "output_type": "display_data"
    }
   ],
   "source": [
    "sn.displot(data=df, x='rating', binwidth=0.1)"
   ]
  },
  {
   "cell_type": "code",
   "execution_count": null,
   "metadata": {},
   "outputs": [],
   "source": []
  }
 ],
 "metadata": {
  "kernelspec": {
   "display_name": "Python 3",
   "language": "python",
   "name": "python3"
  },
  "language_info": {
   "codemirror_mode": {
    "name": "ipython",
    "version": 3
   },
   "file_extension": ".py",
   "mimetype": "text/x-python",
   "name": "python",
   "nbconvert_exporter": "python",
   "pygments_lexer": "ipython3",
   "version": "3.9.16"
  },
  "orig_nbformat": 4
 },
 "nbformat": 4,
 "nbformat_minor": 2
}
